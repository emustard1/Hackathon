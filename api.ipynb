{
 "cells": [
  {
   "cell_type": "code",
   "execution_count": 1,
   "metadata": {},
   "outputs": [],
   "source": [
    "from ntscraper import Nitter\n",
    "from pprint import pprint\n",
    "import pandas as pd"
   ]
  },
  {
   "cell_type": "code",
   "execution_count": 2,
   "metadata": {},
   "outputs": [
    {
     "name": "stderr",
     "output_type": "stream",
     "text": [
      "Testing instances: 100%|██████████| 77/77 [00:59<00:00,  1.29it/s]\n"
     ]
    }
   ],
   "source": [
    "scraper = Nitter(log_level=1, skip_instance_check=False)"
   ]
  },
  {
   "cell_type": "code",
   "execution_count": 3,
   "metadata": {},
   "outputs": [],
   "source": [
    "accounts = ['ConstructionEnq', 'Cnplus', 'TCIndex', 'BuildingNews', 'ConstructionMM', 'GoConstructUK', 'buildingsource', 'RICSnews', 'ConstructionGL', 'PBC_Today', 'UKConstructionm', 'ukconstruct', 'globalconreview', 'ConstructMgmt']\n"
   ]
  },
  {
   "cell_type": "code",
   "execution_count": 4,
   "metadata": {},
   "outputs": [],
   "source": [
    "def output(data):\n",
    "   df = pd.json_normalize(data['tweets'])\n",
    "   df.drop(columns=['link', 'is-retweet', 'is-pinned', 'external-link',\n",
    "       'replying-to', 'pictures', 'videos', 'gifs', 'user.name',\n",
    "       'user.profile_id', 'user.avatar', 'stats.comments',\n",
    "       'stats.retweets', 'stats.quotes', 'stats.likes'], axis=1, inplace=True)\n",
    "   df.to_csv('database.csv', index=False, mode='a')"
   ]
  },
  {
   "cell_type": "code",
   "execution_count": 6,
   "metadata": {},
   "outputs": [
    {
     "name": "stdout",
     "output_type": "stream",
     "text": [
      "12-Jun-24 14:31:31 - No instance specified, using random instance https://nitter.privacydev.net\n",
      "12-Jun-24 14:31:38 - Current stats for ConstructionEnq: 20 tweets, 0 threads...\n",
      "12-Jun-24 14:31:42 - Current stats for ConstructionEnq: 40 tweets, 0 threads...\n",
      "12-Jun-24 14:31:46 - Current stats for ConstructionEnq: 60 tweets, 0 threads...\n",
      "12-Jun-24 14:31:49 - Current stats for ConstructionEnq: 80 tweets, 0 threads...\n",
      "12-Jun-24 14:31:55 - Current stats for ConstructionEnq: 100 tweets, 0 threads...\n",
      "12-Jun-24 14:31:59 - Current stats for ConstructionEnq: 120 tweets, 0 threads...\n",
      "12-Jun-24 14:32:05 - Current stats for ConstructionEnq: 140 tweets, 0 threads...\n",
      "12-Jun-24 14:32:11 - Current stats for ConstructionEnq: 160 tweets, 0 threads...\n",
      "12-Jun-24 14:32:15 - Current stats for ConstructionEnq: 180 tweets, 0 threads...\n",
      "12-Jun-24 14:32:22 - Empty page on https://nitter.privacydev.net\n",
      "12-Jun-24 14:32:24 - No instance specified, using random instance https://nitter.privacydev.net\n",
      "12-Jun-24 14:32:28 - Current stats for Cnplus: 20 tweets, 0 threads...\n",
      "12-Jun-24 14:32:38 - Current stats for Cnplus: 40 tweets, 0 threads...\n",
      "12-Jun-24 14:32:40 - Empty page on https://nitter.privacydev.net\n",
      "12-Jun-24 14:32:42 - No instance specified, using random instance https://nitter.privacydev.net\n",
      "12-Jun-24 14:32:45 - Empty page on https://nitter.privacydev.net\n",
      "12-Jun-24 14:32:47 - No instance specified, using random instance https://nitter.privacydev.net\n",
      "12-Jun-24 14:32:53 - Current stats for BuildingNews: 20 tweets, 0 threads...\n",
      "12-Jun-24 14:32:55 - Fetching error: Instance has been rate limited.Use another instance or try again later.\n",
      "12-Jun-24 14:32:57 - No instance specified, using random instance https://nitter.privacydev.net\n",
      "12-Jun-24 14:32:57 - Empty page on https://nitter.privacydev.net\n",
      "12-Jun-24 14:32:59 - No instance specified, using random instance https://nitter.privacydev.net\n",
      "12-Jun-24 14:33:07 - Current stats for GoConstructUK: 20 tweets, 0 threads...\n",
      "12-Jun-24 14:33:08 - Fetching error: Instance has been rate limited.Use another instance or try again later.\n",
      "12-Jun-24 14:33:10 - No instance specified, using random instance https://nitter.privacydev.net\n",
      "12-Jun-24 14:33:10 - Empty page on https://nitter.privacydev.net\n",
      "12-Jun-24 14:33:12 - No instance specified, using random instance https://nitter.privacydev.net\n",
      "12-Jun-24 14:33:14 - Fetching error: Instance has been rate limited.Use another instance or try again later.\n",
      "12-Jun-24 14:33:16 - No instance specified, using random instance https://nitter.privacydev.net\n",
      "12-Jun-24 14:33:17 - Empty page on https://nitter.privacydev.net\n",
      "12-Jun-24 14:33:19 - No instance specified, using random instance https://nitter.privacydev.net\n",
      "12-Jun-24 14:33:24 - Current stats for PBC_Today: 21 tweets, 0 threads...\n",
      "12-Jun-24 14:33:29 - Current stats for PBC_Today: 41 tweets, 0 threads...\n",
      "12-Jun-24 14:33:40 - Current stats for PBC_Today: 61 tweets, 0 threads...\n",
      "12-Jun-24 14:33:43 - Empty page on https://nitter.privacydev.net\n",
      "12-Jun-24 14:33:45 - No instance specified, using random instance https://nitter.privacydev.net\n",
      "12-Jun-24 14:33:58 - Current stats for UKConstructionm: 20 tweets, 0 threads...\n",
      "12-Jun-24 14:34:03 - Current stats for UKConstructionm: 40 tweets, 0 threads...\n",
      "12-Jun-24 14:34:09 - Current stats for UKConstructionm: 60 tweets, 0 threads...\n",
      "12-Jun-24 14:34:10 - Empty page on https://nitter.privacydev.net\n",
      "12-Jun-24 14:34:12 - No instance specified, using random instance https://nitter.privacydev.net\n",
      "12-Jun-24 14:34:12 - Empty page on https://nitter.privacydev.net\n",
      "12-Jun-24 14:34:14 - No instance specified, using random instance https://nitter.privacydev.net\n",
      "12-Jun-24 14:34:15 - Empty page on https://nitter.privacydev.net\n",
      "12-Jun-24 14:34:17 - No instance specified, using random instance https://nitter.privacydev.net\n",
      "12-Jun-24 14:34:17 - Empty page on https://nitter.privacydev.net\n"
     ]
    }
   ],
   "source": [
    "for account in accounts:\n",
    "   posts = scraper.get_tweets(account, mode='user', number=1000)\n",
    "   try:\n",
    "      output(posts)\n",
    "   except:\n",
    "      continue"
   ]
  },
  {
   "cell_type": "code",
   "execution_count": null,
   "metadata": {},
   "outputs": [],
   "source": []
  }
 ],
 "metadata": {
  "kernelspec": {
   "display_name": "sheffield_hack",
   "language": "python",
   "name": "python3"
  },
  "language_info": {
   "codemirror_mode": {
    "name": "ipython",
    "version": 3
   },
   "file_extension": ".py",
   "mimetype": "text/x-python",
   "name": "python",
   "nbconvert_exporter": "python",
   "pygments_lexer": "ipython3",
   "version": "3.12.4"
  }
 },
 "nbformat": 4,
 "nbformat_minor": 2
}
