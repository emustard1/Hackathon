{
 "cells": [
  {
   "cell_type": "code",
   "execution_count": 174,
   "metadata": {},
   "outputs": [],
   "source": [
    "from transformers import AutoTokenizer, AutoModelForSequenceClassification\n",
    "from scipy.special import softmax\n",
    "import pandas as pd"
   ]
  },
  {
   "cell_type": "code",
   "execution_count": 175,
   "metadata": {},
   "outputs": [
    {
     "data": {
      "text/html": [
       "<div>\n",
       "<style scoped>\n",
       "    .dataframe tbody tr th:only-of-type {\n",
       "        vertical-align: middle;\n",
       "    }\n",
       "\n",
       "    .dataframe tbody tr th {\n",
       "        vertical-align: top;\n",
       "    }\n",
       "\n",
       "    .dataframe thead th {\n",
       "        text-align: right;\n",
       "    }\n",
       "</style>\n",
       "<table border=\"1\" class=\"dataframe\">\n",
       "  <thead>\n",
       "    <tr style=\"text-align: right;\">\n",
       "      <th></th>\n",
       "      <th>text</th>\n",
       "      <th>date</th>\n",
       "      <th>user.username</th>\n",
       "    </tr>\n",
       "  </thead>\n",
       "  <tbody>\n",
       "    <tr>\n",
       "      <th>0</th>\n",
       "      <td>OCU buys Scottish civils contractor RJ McLeod ...</td>\n",
       "      <td>Jun 12, 2024 · 10:02 AM UTC</td>\n",
       "      <td>@ConstructionEnq</td>\n",
       "    </tr>\n",
       "    <tr>\n",
       "      <th>1</th>\n",
       "      <td>Construction output falls for third month runn...</td>\n",
       "      <td>Jun 12, 2024 · 8:51 AM UTC</td>\n",
       "      <td>@ConstructionEnq</td>\n",
       "    </tr>\n",
       "    <tr>\n",
       "      <th>2</th>\n",
       "      <td>Balfour wins design for £690m Skye transmissio...</td>\n",
       "      <td>Jun 12, 2024 · 7:19 AM UTC</td>\n",
       "      <td>@ConstructionEnq</td>\n",
       "    </tr>\n",
       "    <tr>\n",
       "      <th>3</th>\n",
       "      <td>Construction output falls for third month runn...</td>\n",
       "      <td>Jun 12, 2024 · 7:19 AM UTC</td>\n",
       "      <td>@ConstructionEnq</td>\n",
       "    </tr>\n",
       "    <tr>\n",
       "      <th>4</th>\n",
       "      <td>Plan in for Leeds 27-storey block of flats dlv...</td>\n",
       "      <td>Jun 12, 2024 · 6:33 AM UTC</td>\n",
       "      <td>@ConstructionEnq</td>\n",
       "    </tr>\n",
       "  </tbody>\n",
       "</table>\n",
       "</div>"
      ],
      "text/plain": [
       "                                                text  \\\n",
       "0  OCU buys Scottish civils contractor RJ McLeod ...   \n",
       "1  Construction output falls for third month runn...   \n",
       "2  Balfour wins design for £690m Skye transmissio...   \n",
       "3  Construction output falls for third month runn...   \n",
       "4  Plan in for Leeds 27-storey block of flats dlv...   \n",
       "\n",
       "                          date     user.username  \n",
       "0  Jun 12, 2024 · 10:02 AM UTC  @ConstructionEnq  \n",
       "1   Jun 12, 2024 · 8:51 AM UTC  @ConstructionEnq  \n",
       "2   Jun 12, 2024 · 7:19 AM UTC  @ConstructionEnq  \n",
       "3   Jun 12, 2024 · 7:19 AM UTC  @ConstructionEnq  \n",
       "4   Jun 12, 2024 · 6:33 AM UTC  @ConstructionEnq  "
      ]
     },
     "execution_count": 175,
     "metadata": {},
     "output_type": "execute_result"
    }
   ],
   "source": [
    "#bring in df\n",
    "df = pd.read_csv('database.csv')\n",
    "df.head()"
   ]
  },
  {
   "cell_type": "code",
   "execution_count": 176,
   "metadata": {},
   "outputs": [
    {
     "name": "stderr",
     "output_type": "stream",
     "text": [
      "c:\\Users\\edwar\\Desktop\\Hackathons\\Sheffield hackthon 11-06-2024\\sheffield_hack\\Lib\\site-packages\\huggingface_hub\\file_download.py:1132: FutureWarning: `resume_download` is deprecated and will be removed in version 1.0.0. Downloads always resume when possible. If you want to force a new download, use `force_download=True`.\n",
      "  warnings.warn(\n"
     ]
    }
   ],
   "source": [
    "#bring in model, tokeniser and initialise labels\n",
    "roberta = \"cardiffnlp/twitter-roberta-base-sentiment\"\n",
    "model = AutoModelForSequenceClassification.from_pretrained(roberta)\n",
    "tokenizer = AutoTokenizer.from_pretrained(roberta)"
   ]
  },
  {
   "cell_type": "code",
   "execution_count": 177,
   "metadata": {},
   "outputs": [],
   "source": [
    "def tweet_encoder(tweet, m_tokenizer=tokenizer):\n",
    "   \"\"\"Tweet tokenizer and model for 1 item\"\"\"\n",
    "   encoded_tweet = m_tokenizer(tweet, return_tensors='pt')\n",
    "   output = model(**encoded_tweet)\n",
    "   score = output[0][0].detach().numpy()\n",
    "   return score"
   ]
  },
  {
   "cell_type": "code",
   "execution_count": 178,
   "metadata": {},
   "outputs": [],
   "source": [
    "def results(Neg, Neu, Pos, Score):\n",
    "    \"\"\"Update labels with score\"\"\"\n",
    "    Neg += Score[0]\n",
    "    Neu += Score[1]\n",
    "    Pos += Score[2]\n",
    "    return Neg, Neu, Pos"
   ]
  },
  {
   "cell_type": "code",
   "execution_count": 179,
   "metadata": {},
   "outputs": [],
   "source": [
    "if __name__ == '__main__':\n",
    "   global df\n",
    "   Negative = 0\n",
    "   Neutral = 0\n",
    "   Positive = 0\n",
    "   sentiment_labels = [Negative, Neutral, Positive]\n",
    "   #this is the part where we loop through each row in the series\n",
    "   df['Negative'] =  None\n",
    "   df['Neutral'] = None\n",
    "   df['Positive'] = None\n",
    "   \n",
    "   for index, row in df.iterrows():\n",
    "      tweet = row['text'] #each tweet text is selected\n",
    "      output = tweet_encoder(row['text']) #tweet is tokenised, and scored\n",
    "      sentiment = softmax(output) #output is normalised\n",
    "      df.loc[index, \"Negative\"] = sentiment[0] #inserts negative score\n",
    "      df.loc[index, \"Neutral\"] = sentiment[1] #inserts neutral score\n",
    "      df.loc[index, \"Positive\"] = sentiment[2] #inserts positive score"
   ]
  },
  {
   "cell_type": "code",
   "execution_count": 180,
   "metadata": {},
   "outputs": [
    {
     "data": {
      "text/html": [
       "<div>\n",
       "<style scoped>\n",
       "    .dataframe tbody tr th:only-of-type {\n",
       "        vertical-align: middle;\n",
       "    }\n",
       "\n",
       "    .dataframe tbody tr th {\n",
       "        vertical-align: top;\n",
       "    }\n",
       "\n",
       "    .dataframe thead th {\n",
       "        text-align: right;\n",
       "    }\n",
       "</style>\n",
       "<table border=\"1\" class=\"dataframe\">\n",
       "  <thead>\n",
       "    <tr style=\"text-align: right;\">\n",
       "      <th></th>\n",
       "      <th>text</th>\n",
       "      <th>date</th>\n",
       "      <th>user.username</th>\n",
       "      <th>Negative</th>\n",
       "      <th>Neutral</th>\n",
       "      <th>Positive</th>\n",
       "    </tr>\n",
       "  </thead>\n",
       "  <tbody>\n",
       "    <tr>\n",
       "      <th>0</th>\n",
       "      <td>OCU buys Scottish civils contractor RJ McLeod ...</td>\n",
       "      <td>Jun 12, 2024 · 10:02 AM UTC</td>\n",
       "      <td>@ConstructionEnq</td>\n",
       "      <td>0.040948</td>\n",
       "      <td>0.922272</td>\n",
       "      <td>0.03678</td>\n",
       "    </tr>\n",
       "    <tr>\n",
       "      <th>1</th>\n",
       "      <td>Construction output falls for third month runn...</td>\n",
       "      <td>Jun 12, 2024 · 8:51 AM UTC</td>\n",
       "      <td>@ConstructionEnq</td>\n",
       "      <td>0.212693</td>\n",
       "      <td>0.746651</td>\n",
       "      <td>0.040656</td>\n",
       "    </tr>\n",
       "    <tr>\n",
       "      <th>2</th>\n",
       "      <td>Balfour wins design for £690m Skye transmissio...</td>\n",
       "      <td>Jun 12, 2024 · 7:19 AM UTC</td>\n",
       "      <td>@ConstructionEnq</td>\n",
       "      <td>0.009108</td>\n",
       "      <td>0.670077</td>\n",
       "      <td>0.320815</td>\n",
       "    </tr>\n",
       "    <tr>\n",
       "      <th>3</th>\n",
       "      <td>Construction output falls for third month runn...</td>\n",
       "      <td>Jun 12, 2024 · 7:19 AM UTC</td>\n",
       "      <td>@ConstructionEnq</td>\n",
       "      <td>0.568673</td>\n",
       "      <td>0.412028</td>\n",
       "      <td>0.019299</td>\n",
       "    </tr>\n",
       "    <tr>\n",
       "      <th>4</th>\n",
       "      <td>Plan in for Leeds 27-storey block of flats dlv...</td>\n",
       "      <td>Jun 12, 2024 · 6:33 AM UTC</td>\n",
       "      <td>@ConstructionEnq</td>\n",
       "      <td>0.031066</td>\n",
       "      <td>0.934748</td>\n",
       "      <td>0.034186</td>\n",
       "    </tr>\n",
       "  </tbody>\n",
       "</table>\n",
       "</div>"
      ],
      "text/plain": [
       "                                                text  \\\n",
       "0  OCU buys Scottish civils contractor RJ McLeod ...   \n",
       "1  Construction output falls for third month runn...   \n",
       "2  Balfour wins design for £690m Skye transmissio...   \n",
       "3  Construction output falls for third month runn...   \n",
       "4  Plan in for Leeds 27-storey block of flats dlv...   \n",
       "\n",
       "                          date     user.username  Negative   Neutral  Positive  \n",
       "0  Jun 12, 2024 · 10:02 AM UTC  @ConstructionEnq  0.040948  0.922272   0.03678  \n",
       "1   Jun 12, 2024 · 8:51 AM UTC  @ConstructionEnq  0.212693  0.746651  0.040656  \n",
       "2   Jun 12, 2024 · 7:19 AM UTC  @ConstructionEnq  0.009108  0.670077  0.320815  \n",
       "3   Jun 12, 2024 · 7:19 AM UTC  @ConstructionEnq  0.568673  0.412028  0.019299  \n",
       "4   Jun 12, 2024 · 6:33 AM UTC  @ConstructionEnq  0.031066  0.934748  0.034186  "
      ]
     },
     "execution_count": 180,
     "metadata": {},
     "output_type": "execute_result"
    }
   ],
   "source": [
    "df.head()"
   ]
  },
  {
   "cell_type": "code",
   "execution_count": 194,
   "metadata": {},
   "outputs": [],
   "source": [
    "fin_neg = df['Negative'].sum()*-1\n",
    "fin_neu = df['Neutral'].sum()\n",
    "fin_pos = df['Positive'].sum()\n",
    "\n",
    "score = (fin_neg +(fin_neu*0) +fin_pos)/len(df.index)"
   ]
  }
 ],
 "metadata": {
  "kernelspec": {
   "display_name": "sheffield_hack",
   "language": "python",
   "name": "python3"
  },
  "language_info": {
   "codemirror_mode": {
    "name": "ipython",
    "version": 3
   },
   "file_extension": ".py",
   "mimetype": "text/x-python",
   "name": "python",
   "nbconvert_exporter": "python",
   "pygments_lexer": "ipython3",
   "version": "3.12.4"
  }
 },
 "nbformat": 4,
 "nbformat_minor": 2
}
